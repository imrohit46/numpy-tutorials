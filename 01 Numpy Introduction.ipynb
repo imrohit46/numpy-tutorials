{
 "cells": [
  {
   "cell_type": "markdown",
   "metadata": {},
   "source": [
    "# Introduction\n",
    "### by <a href='https://www.youtube.com/wonkyCode'>WonkyCode</a>\n",
    "\n",
    "#### Prerequisites:\n",
    "1. Basic knowledge of Python is necessary.\n",
    "2. Don't know python?.. Don't worry. Click this link (<a href=\"https://www.youtube.com/playlist?list=PLwPDdNxG2EFesTl6p_4GOntgTLXhAYYp3\"> Python 3 Tutorials</a>) and learn python for free\n",
    "\n",
    "\n",
    "## The Scientific Python Ecosystem\n",
    "##### Core Packages\n",
    "1. <b style=\"color:green\">Numpy</b> - The fundamental package for numerical computation\n",
    "2. <b style=\"color:green\">SciPy</b> - A collection of numerical algorithms and domain specific toolboxes\n",
    "3. <b style=\"color:green\">Matplotlib</b> - Plotting and Visualization package. 2D plotting and basic 3D plotting\n",
    "4. <b style=\"color:green\">SymPy</b> - For symbolic mathematics and computer algebra\n",
    "5. <b style=\"color:green\">Pandas</b> - For data manipulation and analysis. It offers data structures and operations for manipulating numerical tables and time series.\n",
    "6. <b style=\"color:green\">iPython</b> - Interactive shell and web based notebook for rapid protyping"
   ]
  },
  {
   "cell_type": "markdown",
   "metadata": {},
   "source": [
    "## A Little bit about Numpy!\n",
    "1. NumPy (Numerical Python) is an open source Python library that’s used in almost every field of science and engineering. \n",
    "2. It’s the universal standard for working with numerical data in Python, and it’s at the core of the scientific Python and PyData ecosystems. \n",
    "3. The NumPy API is used extensively in Pandas, SciPy, Matplotlib, scikit-learn, scikit-image and most other data science and scientific Python packages.\n",
    "4. The NumPy library contains multidimensional array and matrix data structures. \n",
    "5. It provides ndarray, a homogeneous n-dimensional array object, with methods to efficiently operate on it. \n",
    "6. NumPy can be used to perform a wide variety of mathematical operations on arrays. \n",
    "7. It adds powerful data structures to Python that guarantee efficient calculations with arrays and matrices and it supplies an enormous library of high-level mathematical functions that operate on these arrays and matrices."
   ]
  },
  {
   "cell_type": "markdown",
   "metadata": {},
   "source": [
    "## Why use Numpy?\n",
    "\n",
    "1. NumPy arrays are faster and more compact than Python lists.\n",
    "2. An array consumes less memory and is convenient to use. \n",
    "3. NumPy uses much less memory to store data and it provides a mechanism of specifying the data types. This allows the code to be optimized even further."
   ]
  },
  {
   "cell_type": "code",
   "execution_count": 1,
   "metadata": {},
   "outputs": [
    {
     "name": "stdout",
     "output_type": "stream",
     "text": [
      "dsds\n"
     ]
    }
   ],
   "source": [
    "print(\"dsds\")"
   ]
  },
  {
   "cell_type": "code",
   "execution_count": null,
   "metadata": {},
   "outputs": [],
   "source": []
  }
 ],
 "metadata": {
  "kernelspec": {
   "display_name": "Python 3",
   "language": "python",
   "name": "python3"
  },
  "language_info": {
   "codemirror_mode": {
    "name": "ipython",
    "version": 3
   },
   "file_extension": ".py",
   "mimetype": "text/x-python",
   "name": "python",
   "nbconvert_exporter": "python",
   "pygments_lexer": "ipython3",
   "version": "3.7.6"
  }
 },
 "nbformat": 4,
 "nbformat_minor": 4
}
